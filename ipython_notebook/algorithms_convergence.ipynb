{
 "cells": [
  {
   "cell_type": "markdown",
   "metadata": {},
   "source": [
    "# 02. Algorithms and Convergence\n",
    "- Title: Methods of Numerical Analysis (Python)\n",
    "- Date: Date: Aug/26/2015, Wednesday - Dec/21/2015, Monday\n",
    "- Author: Minwoo Bae (minubae.nyc@gmail.com)\n",
    "- Reference: Numerical Analysis - 10th Edition by Richard L. Burden, Douglas J. Faires, and Annette M. Burden."
   ]
  },
  {
   "cell_type": "markdown",
   "metadata": {},
   "source": [
    "Approximation procedures, called $\\mathit{algorithms}$, involve sequences of calculations. An $\\mathbf{algorithm}$ is a procedure that describes, in an unambiguous manner, a finite sequence of steps to be performed in a specified order. The object of the algorithm is to implement a procedure to solve a problem or approximate a solution to the problem.\n",
    "\n",
    "### Illustration\n",
    "The following algorithm computes $x_{1} + x_{2} + \\dots + x_{N} = \\displaystyle\\sum_{i=1}^{N} x_i$, given $N$ and the numbers $x_{1},x_{2},\\dots,x_{N}$.\n",
    "<br>\n",
    "$\\mathsf{INPUT} \\space\\space\\space N, x_{1}, x_{2},\\dots, x_{N}.$\n",
    "<br><br>\n",
    "$\\mathsf{OUTPUT} \\space\\space\\space SUM = \\sum_{i=1}^{N} x_i.$\n",
    "<br><br>\n",
    "$\\mathsf{Step\\space1} \\space\\space\\space Set \\space SUM = 0. \\space\\space (Initialize accumulator.)$\n"
   ]
  },
  {
   "cell_type": "code",
   "execution_count": null,
   "metadata": {
    "collapsed": true
   },
   "outputs": [],
   "source": []
  }
 ],
 "metadata": {
  "kernelspec": {
   "display_name": "Python 3",
   "language": "python",
   "name": "python3"
  },
  "language_info": {
   "codemirror_mode": {
    "name": "ipython",
    "version": 3
   },
   "file_extension": ".py",
   "mimetype": "text/x-python",
   "name": "python",
   "nbconvert_exporter": "python",
   "pygments_lexer": "ipython3",
   "version": "3.5.1"
  }
 },
 "nbformat": 4,
 "nbformat_minor": 0
}
