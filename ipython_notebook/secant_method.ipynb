{
 "cells": [
  {
   "cell_type": "markdown",
   "metadata": {},
   "source": [
    "# 03. Root Finding Methods\n",
    "- Title: Methods of Numerical Analysis (Python)\n",
    "- Date: Date: Aug/26/2015, Wednesday - Dec/21/2015, Monday\n",
    "- Author: Minwoo Bae (minubae.nyc@gmail.com)\n",
    "- Reference: Numerical Analysis - 10th Edition by Richard L. Burden, Douglas J. Faires, and Annette M. Burden."
   ]
  },
  {
   "cell_type": "markdown",
   "metadata": {},
   "source": [
    "## 3.4 The Secant Method\n",
    "Newton's method is an extremely powerful technique, but it has a major weakness: the need to know the value of the derivative of $f$ at each approximation. Frequently, $f'(x)$ is far more difficult and needs more arithmetic operations to calculate than $f(x)$.\n",
    "<br>\n",
    "To circumvent the problem of the derivative evaluation in Newton's method, we introduce a slight variation. By definition, \n",
    "<br><br>\n",
    "$$f'(p_{n-1}) = \\lim_{x \\to p_{n-1}} \\frac{f(x)-f(p_{n-1})}{x-p_{n-1}}.$$\n",
    "<br>\n",
    "If $p_{n-2}$ is close to $p_{n-1},$ then\n",
    "<br><br>\n",
    "$$f'(p_{n-1}) \\approx \\frac{f(p_{n-2})-f(p_{n-1})}{p_{n-2}-p_{n-1}} = \\frac{f(p_{n-1})-f(p_{n-2})}{p_{n-1}-p_{n-2}}.$$\n",
    "<br>\n",
    "Using this approximation for $f'(p_{n-1})$ in Newton's formula gives\n",
    "<br><br>\n",
    "$$p_{n} = p_{n-1} - \\frac{f(p_{n-1})(p_{n-1}-p_{n-2})}{f(p_{n-1})-f(p_{n-2})}.$$\n",
    "<br>\n",
    "<img src=\"img/secant_method.png\" alt=\"Secant Method\" style=\"width:400px; height:300px;\">"
   ]
  },
  {
   "cell_type": "code",
   "execution_count": 2,
   "metadata": {
    "collapsed": false
   },
   "outputs": [
    {
     "name": "stdout",
     "output_type": "stream",
     "text": [
      "i: 2 p: 0.6711705142392532\n",
      "i: 3 p: 0.7355554798403754\n",
      "i: 4 p: 0.7391400750474878\n",
      "i: 5 p: 0.7390850903172301\n",
      "i: 6 p: 0.7390851332146403\n",
      "Secant Method:  0.7390851332146403\n"
     ]
    }
   ],
   "source": [
    "# The Secant Method\n",
    "# INPUT: Initial approximation p0, p1; tolerance TOL; maximum number of iterations N.\n",
    "# OUTPUT: Approximate solution p or message of failure.\n",
    "import math\n",
    "f = lambda x: math.cos(x)-x\n",
    "\n",
    "def secant_method(p0,p1,f,tol,N):\n",
    "    i = 2\n",
    "    q0 = f(p0)\n",
    "    q1 = f(p1)\n",
    "\n",
    "    try:\n",
    "        while i <= N:\n",
    "            p = p1 - q1*(p1-p0) / (q1-q0)\n",
    "            print('i:',i, 'p:',p)\n",
    "            \n",
    "            if math.fabs(p-p1)< tol:\n",
    "                return p; break\n",
    "            i+=1\n",
    "\n",
    "            p0 = p1\n",
    "            q0 = q1\n",
    "            p1 = p \n",
    "            q1 = f(p)\n",
    "            \n",
    "    except:\n",
    "        return 'The procedure was unsuccessful'\n",
    "    \n",
    "print('Secant Method: ', secant_method(4, 1, f, 10**-5, 10))"
   ]
  }
 ],
 "metadata": {
  "kernelspec": {
   "display_name": "Python 3",
   "language": "python",
   "name": "python3"
  },
  "language_info": {
   "codemirror_mode": {
    "name": "ipython",
    "version": 3
   },
   "file_extension": ".py",
   "mimetype": "text/x-python",
   "name": "python",
   "nbconvert_exporter": "python",
   "pygments_lexer": "ipython3",
   "version": "3.5.1"
  }
 },
 "nbformat": 4,
 "nbformat_minor": 0
}
