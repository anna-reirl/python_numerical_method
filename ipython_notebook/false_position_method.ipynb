{
 "cells": [
  {
   "cell_type": "markdown",
   "metadata": {},
   "source": [
    "# 03. Root Finding Methods\n",
    "- Title: Methods of Numerical Analysis (Python)\n",
    "- Date: Date: Aug/26/2015, Wednesday - Dec/21/2015, Monday\n",
    "- Author: Minwoo Bae (minubae.nyc@gmail.com)\n",
    "- Reference: Numerical Analysis - 10th Edition by Richard L. Burden, Douglas J. Faires, and Annette M. Burden."
   ]
  },
  {
   "cell_type": "markdown",
   "metadata": {},
   "source": [
    "## 3.5 The Method of False Position\n",
    "The $\\mathbf{method \\space of \\space False \\space Position}$ (also called Reular Falsi) generates approximations in the same manner as the Secant method, but it includes a test to ensure that the root is always bracketed between successive iterations. Although it is not a method we generally recommend, it illustrates how bracketing can be incoporated. \n",
    "<br>\n",
    "First, choose initial approximations $p_{0}$ and $p_{1}$ with $f(p_{0})\\cdot f(p_{1}) < 0$. The approximation $p_2$ is chosen in the same manner as in the Secant method as the x-intercept of the line joining $(p_0, f(p_0))$ and $(p_1, f(p_1))$. To decide which secant line to use to compute $p_3$, consider $f(p_{2})\\cdot f(p_{1})$ or, more correctly, $sgn \\space f(p_{2})\\cdot sgn \\space f(p_{1})$\n",
    "- If $sgn \\space f(p_{2})\\cdot sgn \\space f(p_{1}) < 0$, then $p_1$ and $p_2$ bracket a root. Choose $p_3$ as the x-intercept of the line joining $(p_1, f(p_1))$ and $(p_2, f(p_2))$. <br><br>\n",
    "- If not, choose $p_3$ as the x-intercept of the line joining $(p_0, f(p_0))$ and $(p_2, f(p_2))$ and then interchange the indices on $p_0$ and $p_1$.\n",
    "\n",
    "In a similar manner, once $p_3$ is found, the sign of $f(p_3)\\cdot f(p_2)$ determines whether we use $p_2$ and $p_3$ or $p_3$ and $p_1$ to compute $p_4$. In the latter case a relabeling of $p_2$ and $p_1$ is performed. The relabeling ensures that the root is bracketed between successive iterations.\n",
    "<br>\n",
    "<img src=\"img/false_position.png\" alt=\"False Position Method\" style=\"width:400px; height:300px;\">"
   ]
  },
  {
   "cell_type": "code",
   "execution_count": 11,
   "metadata": {
    "collapsed": false
   },
   "outputs": [
    {
     "name": "stdout",
     "output_type": "stream",
     "text": [
      "i: 2 p: 1.5454545454545454\n",
      "i: 3 p: 1.996934396076027\n",
      "i: 4 p: 1.996934396076027\n",
      "i: 5 p: 1.996934396076027\n",
      "i: 6 p: 1.996934396076027\n",
      "i: 7 p: 1.996934396076027\n",
      "i: 8 p: 1.996934396076027\n",
      "i: 9 p: 1.996934396076027\n",
      "i: 10 p: 1.996934396076027\n",
      "Method of False Position:  1.996934396076027\n"
     ]
    }
   ],
   "source": [
    "# The Method of False Postion\n",
    "# INPUT: Initial approximation p0, p1; tolerance TOL; maximum number of iterations N.\n",
    "# OUTPUT: Approximate solution p or message of failure.\n",
    "import math\n",
    "f = lambda x: x**3 -2*x**2 - 5\n",
    "\n",
    "def false_position(p0, p1, f, tol, N):\n",
    "    i = 2\n",
    "    q0 = f(p0)\n",
    "    q1 = f(p1)\n",
    "\n",
    "    try:\n",
    "        while i <= N:\n",
    "            p = p1 - q1*(p1-p0)/(q1 - q0)\n",
    "            print('i:',i, 'p:',p)\n",
    "            \n",
    "            if math.fabs(p - p1) < tol:\n",
    "                return p; break\n",
    "            i+=1\n",
    "            q = f(p)\n",
    "\n",
    "            if q*q1 < 0:\n",
    "                p0 = p1\n",
    "                q0 = q1\n",
    "                p1 = p\n",
    "                q1 = q\n",
    "                \n",
    "        return p\n",
    "    except:\n",
    "        return 'The procedure was unsuccessful'\n",
    "\n",
    "print('Method of False Position: ', false_position(1, 4, f, 10**-4, 10))"
   ]
  }
 ],
 "metadata": {
  "kernelspec": {
   "display_name": "Python 3",
   "language": "python",
   "name": "python3"
  },
  "language_info": {
   "codemirror_mode": {
    "name": "ipython",
    "version": 3
   },
   "file_extension": ".py",
   "mimetype": "text/x-python",
   "name": "python",
   "nbconvert_exporter": "python",
   "pygments_lexer": "ipython3",
   "version": "3.5.1"
  }
 },
 "nbformat": 4,
 "nbformat_minor": 0
}
