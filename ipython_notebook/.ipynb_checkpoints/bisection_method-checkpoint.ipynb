{
 "cells": [
  {
   "cell_type": "markdown",
   "metadata": {},
   "source": [
    "# 03. Root Finding Methods\n",
    "- Title: Methods of Numerical Analysis (Python)\n",
    "- Date: Date: Aug/26/2015, Wednesday - Dec/21/2015, Monday\n",
    "- Author: Minwoo Bae (minubae.nyc@gmail.com)\n",
    "- Reference: Numerical Analysis - 10th Edition by Richard L. Burden, Douglas J. Faires, and Annette M. Burden."
   ]
  },
  {
   "cell_type": "markdown",
   "metadata": {},
   "source": [
    "We consider one of the most basic problems of numerical approximation, the $\\mathbf{root\\space finding\\space problem}$. This process involves a $\\mathbf{root}$, or solution, of an equation of the form $f(x)=0$, for a given function $f$. A root of this equation is also called a $\\mathbf{zero}$ of the function $f$.\n",
    "<br><br>\n",
    "The problem of finding an approximation to the root of an equation can be traced back at least to 1,700 B.C.E. A cuneiform table in the Yale Babylonian Collection dating from that period gives a sexigesimal (base-60) number equivalent to 1.414222 as approximation to $\\sqrt{2}$, a result that is accurate to within $10^{-5}$. \n",
    "\n",
    "## 3.1 The Bisection Method\n",
    "The $\\mathbf{Bisection}$, or $\\mathbf{Binary\\space search, \\space method}$ is based on the Intermediate Value Theorem.\n",
    "<br>\n",
    "Suppose $f$ is a continuous function defined on the interval $[a,b]$, with $f(a)$ and $f(b)$ of opposite sign. The Intermediate Value Theorem implies that a number $p$ exists in $(a,b)$ with $f(p)=0$. Although the procedure will work when there is more than one root in the interval $(a,b)$, we assume for simplicity that the root in this interval is unique. The method calls for a repeated halving (or bisecting) of subintervals of $[a,b]$ and, at each step, locating the half containing $p$. To begin, set $a_{1} = a$ and $b_{1} = b$ and let $p_{1}$ be the midpoint of $[a,b]$; that is, \n",
    "<br><br>\n",
    "$$p_{1} = a_{1} + \\frac{b_{1}-a_{1}}{2} = \\frac{a_{1}+b_{1}}{2}$$\n",
    "- If $f(p_{1})=0$, then $p=p_{1}$, and we are done.<br><br>\n",
    "- If $f(p_{1}) \\neq 0$, then $f(p_{1})$ has the same sign as either $f(a_{1})$ or $f(b_{1})$. <br><br>\n",
    " - if $f(p_{1})$ and $f(a_{1})$ have the same sign, $p \\in (p_{1},b_{1})$. Set $a_{2}=p_{1}$ and $b_{2}=b_{1}$. <br><br>\n",
    " - if $f(p_{1})$ and $f(a_{1})$ have opposite sign, $p \\in (a_{1},p_{1})$. Set $a_{2}=a_{1}$ and $b_{2}=p_{1}$.\n",
    " \n",
    " <img src=\"img/bisection_method.png\" alt=\"Bisection Method\" style=\"width:400px; height:400px;\">\n",
    " "
   ]
  },
  {
   "cell_type": "code",
   "execution_count": 12,
   "metadata": {
    "collapsed": true
   },
   "outputs": [],
   "source": [
    "# The Bisection Method (Binary Search)\n",
    "# Author: Minwoo(Minu) Bae (minubae.nyc@gmail.com)\n",
    "# INPUT: Function fx; endpoints a, b; tolerance TOL; maximum number of iterations N0\n",
    "# OUTPUT: Approximate solution p or message of failure.\n",
    "def bisection_method(fx, a, b, tol, N):\n",
    "        i = 1\n",
    "        FA = fx(a)\n",
    "\n",
    "        try:\n",
    "            while i <= N:\n",
    "\n",
    "                p = a + (b-a)/2\n",
    "                FP = fx(p)\n",
    "\n",
    "                print(i,': ', 'p:', p, '; f(p):', FP)\n",
    "                \n",
    "                if FP == 0 or (b-a)/2 < tol:\n",
    "                    return p; break\n",
    "                i+=1\n",
    "                \n",
    "                if FA*FP > 0:\n",
    "                        a = p\n",
    "                else:\n",
    "                        b = p\n",
    "        except:\n",
    "            return 'The procedure was unsuccessful.'"
   ]
  },
  {
   "cell_type": "code",
   "execution_count": 8,
   "metadata": {
    "collapsed": false
   },
   "outputs": [
    {
     "name": "stdout",
     "output_type": "stream",
     "text": [
      "1 :  p: 5.0 ; f(p): 29.0\n",
      "A Root (Solution) is  5.0\n"
     ]
    }
   ],
   "source": [
    "import math\n",
    "f = lambda x: math.cos(x)-x\n",
    "fx = lambda x: 2**x - 3\n",
    "print('A Root (Solution) is ',bisection_method(fx, 0, 10, 10**5, 10))"
   ]
  },
  {
   "cell_type": "markdown",
   "metadata": {},
   "source": [
    "### THEOREM of the Bisection Method\n",
    "Suppose that $f \\in C[a,b]$ and $f(a)\\cdot f(b) < 0$. The Bisection method generates a sequence $\\{p_{n}\\}_{n=1}^\\infty$ approximating a zero $p$ of $f$ with <br><br>\n",
    "$$\\big|p_{n} - p \\big| \\leq \\frac{b-a}{2^n}, \\space\\space n \\geq 1.$$\n",
    "<br>\n",
    "\n",
    "### Example\n",
    "Determine the number of iterations necessary to solve $f(x) = x^3 + 4x^2 - 10 = 0$ with accuracy $10^{-3}$ using $a_{1} = 1$ and $b_{1} = 2$.\n",
    "#### Solution \n",
    "We will use logarithms to find an integer $N$ that satisfies\n",
    "<br><br>\n",
    "$$\\big|p_{N} - P \\big| \\leq 2^{-N} (b-a) = 2^{-N} < 10^{-3}.$$\n",
    "<br>\n",
    "Logarithms to any base would suffice, but we will use base 10 logarithms because the tolerance is given as a power of 10. Since $2^{-N} < 10^{-3}$ implies that $\\log_{10}2^{-N} < \\log_{10}10^{-3} = -3$, we have\n",
    "<br><br>\n",
    "$$-N\\log_{10}2 < -3 \\space\\space N > \\frac{3}{\\log_{10}2} \\approx 9.96.$$\n",
    "<br>\n",
    "Hence, 10 iterations are required for an approximation accurate to within $10^-3$. It is important to keep in mind that the error analysis gives only a bound for the number of iterations. In many cases, this bound is much larger than the actual number required."
   ]
  }
 ],
 "metadata": {
  "kernelspec": {
   "display_name": "Python 3",
   "language": "python",
   "name": "python3"
  },
  "language_info": {
   "codemirror_mode": {
    "name": "ipython",
    "version": 3
   },
   "file_extension": ".py",
   "mimetype": "text/x-python",
   "name": "python",
   "nbconvert_exporter": "python",
   "pygments_lexer": "ipython3",
   "version": "3.5.1"
  }
 },
 "nbformat": 4,
 "nbformat_minor": 0
}
