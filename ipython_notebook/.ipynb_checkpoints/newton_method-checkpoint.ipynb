{
 "cells": [
  {
   "cell_type": "markdown",
   "metadata": {},
   "source": [
    "# 03. Root Finding Methods\n",
    "- Title: Methods of Numerical Analysis (Python)\n",
    "- Date: Date: Aug/26/2015, Wednesday - Dec/21/2015, Monday\n",
    "- Author: Minwoo Bae (minubae.nyc@gmail.com)\n",
    "- Reference: Numerical Analysis - 10th Edition by Richard L. Burden, Douglas J. Faires, and Annette M. Burden."
   ]
  },
  {
   "cell_type": "markdown",
   "metadata": {},
   "source": [
    "## 3.3 Newton's Method\n",
    " $\\mathbf{Newton's}$ (or the Newton-Raphson) $\\mathbf{method}$ is one of the most powerful and well-known numerical methods fro solving a root-finding problem. Newton's method is based on Taylor polynomials. We will see there that this particular derivation produces not only the method but also a bound for the error of the approximation. Newton's method obtains faster convergence than offered by other types of functional iteration.\n",
    "<br><br>\n",
    "Suppose that $f \\in C^{2}[a,b]$. Let $p_{0} \\in [a,b]$ be an approximation to $p$ such that $f'(p_{0}) \\neq 0$ and $\\big|p-p_{0}\\big|$ is \"small.\" Consider the first Taylor polynomial for $f(x)$ expanded about $p_{0}$ and evaluated at $x=p:$\n",
    "<br><br>\n",
    "$$f(p)=f(p_{0})+(p-p_{0})f'(p_{0})+\\frac{(p-p_{0})^2}{2}f\"(\\xi(p)),$$\n",
    "<br>\n",
    "where $\\xi(p)$ lies between $p$ and $p_{0}.$ Since $f(p)=0$, this equation gives\n",
    "<br><br>\n",
    "$$0=f(p_{0})+(p-p_{0})f'(p_{0})+\\frac{(p-p_{0})^2}{2}f\"(\\xi(p)).$$\n",
    "<br>\n",
    "Newton's method is derived by assuming that since $\\big|p-p_{0}\\big|$ is small, the term involving $(p-p_{0})^2$ is much smaller, so \n",
    "<br><br>\n",
    "$$0 \\approx f(p_{0})+(p-p_{0})f'(p_{0}).$$\n",
    "<br>\n",
    "Solving for p gives \n",
    "<br><br>\n",
    "$$p \\approx p_{0} - \\frac{f(p_{0})}{f'(p_{0})} \\equiv p_{1}.$$\n",
    "<br>\n",
    "This sets the stage for Newton's method, which starts with an initial approximation $p_{0}$ and generates the sequence ${p_{n}}_{n=0}^\\infty$, by\n",
    "<br><br>\n",
    "$$p_{n} = p_{n-1} - \\frac{f(p_{n-1})}{f'(p_{n-1})}, \\space\\space\\space for \\space\\space n \\geq 1.$$\n",
    "\n",
    "<img src=\"img/newton_method.gif\" alt=\"Newton Method\" style=\"width:600px; height:400px;\">"
   ]
  },
  {
   "cell_type": "code",
   "execution_count": 33,
   "metadata": {
    "collapsed": false
   },
   "outputs": [
    {
     "data": {
      "text/plain": [
       "4.0"
      ]
     },
     "execution_count": 33,
     "metadata": {},
     "output_type": "execute_result"
    }
   ],
   "source": [
    "# A Scipy Example for Derivative of a function:\n",
    "from scipy import integrate\n",
    "from scipy.misc import derivative\n",
    "from math import *\n",
    "\n",
    "f = lambda x: x**2\n",
    "# scipy.misc.derivative(func, x0, dx=1.0, n=1, args=(), order=3)[source]\n",
    "derivative(f, 2.0) \n",
    "#derivative(f, 1.0, dx=1e-6)"
   ]
  },
  {
   "cell_type": "code",
   "execution_count": 35,
   "metadata": {
    "collapsed": false
   },
   "outputs": [
    {
     "name": "stdout",
     "output_type": "stream",
     "text": [
      "Newton Method : 0.739085657947\n"
     ]
    }
   ],
   "source": [
    "# Newton's (or the Newton-Raphson)Method\n",
    "# INPUT: Initial approximation p0; tolerance TOL; maximum number of iterations N.\n",
    "# OUTPUT: Approximation solution p or message of failure.\n",
    "\n",
    "from scipy.misc import derivative as diff\n",
    "import math\n",
    "\n",
    "f = lambda x: math.cos(x)-x\n",
    "\n",
    "def newton_method(p0, f, tol, N):\n",
    "    i = 1\n",
    "    try:\n",
    "        while i <= N:\n",
    "            # TODO:\n",
    "            # diff(f(p0), x) needs to be fixed.\n",
    "            p = p0 - f(p0)/diff(f, p0)\n",
    "            if math.fabs(p-p0) < tol:\n",
    "                return p; break\n",
    "            i+=1\n",
    "            p0 = p\n",
    "    except:\n",
    "        return 'The procedure was unsuccessful'\n",
    "\n",
    "print('Newton Method :' , newton_method(4, f, 10**-5, 10))"
   ]
  },
  {
   "cell_type": "code",
   "execution_count": null,
   "metadata": {
    "collapsed": true
   },
   "outputs": [],
   "source": []
  }
 ],
 "metadata": {
  "kernelspec": {
   "display_name": "Python 3",
   "language": "python",
   "name": "python3"
  },
  "language_info": {
   "codemirror_mode": {
    "name": "ipython",
    "version": 3
   },
   "file_extension": ".py",
   "mimetype": "text/x-python",
   "name": "python",
   "nbconvert_exporter": "python",
   "pygments_lexer": "ipython3",
   "version": "3.5.1"
  }
 },
 "nbformat": 4,
 "nbformat_minor": 0
}
