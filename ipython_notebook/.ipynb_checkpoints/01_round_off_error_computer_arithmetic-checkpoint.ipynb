{
 "cells": [
  {
   "cell_type": "markdown",
   "metadata": {},
   "source": [
    "# 01. Round-Off Error and Computer Arithmetic\n",
    "- Title: Methods of Numerical Analysis (Python)\n",
    "- Date: Oct/06/2015, Tuesday - Current\n",
    "- Author: Minwoo Bae (minubae.nyc@gmail.com)"
   ]
  },
  {
   "cell_type": "markdown",
   "metadata": {},
   "source": [
    "## Round-Off Error\n",
    "The arithmetic performed by a calculator or computer is different from the arithmetic in algebra and calculus courses. We would likely expect that we always have as true statements things such as $2+2=4$, $4 \\cdot 8 = 32$, and $(\\sqrt{3})^2 = 3$. However, with $\\mathit{computer}$ arithmetic, we expect exact results for $2+2=4$ and  $4 \\cdot 8 = 32$, but we will not have precisely $(\\sqrt{3})^2 = 3$. To understand why this is true, we must explore the world of finite-digit arithmetic.\n",
    "<br>\n",
    "<br>\n",
    "In our traditional mathematical world, we permit numbers with an infinite numbers of digits. The arithmetic we use in this world $\\mathit{defines}\\space\\sqrt{3}$ as that unique positive number that when multiplied by itself produces the integer 3. <span style=\"background-color:#FFFF00\">In the computational world, however, each representable number has only a fixed and finite number of digits. This means, for example, that only rational numbers--and not even all of these--can be represented exactly.</span> Since $\\sqrt{3}$ is not rational, it is given an approximate representation, one whose square will not be precisely 3, although it will likely be sufficiently close to 3 to be acceptable in most situations. In most cases, then, this machine arithmetic is satisfactory and passes without notice or concern, but at times problems arise because of this discrepancy.\n",
    "<br>\n",
    "<br>\n",
    "The error that is produced when a calculator or computer is used to perform real number calculations is called <b>round-off error</b>. It occurs because the arithmetic performed in a machine involved numbers with only <span style=\"background-color:#FFFF00\">a finite number of digits, with the result that calculations are performed with only approximate representations of the actual numbers.</span> In a computer, only a relatively small subset of the real number system is used for the representaion of all the real numbers. This subset contains only rational numbers, both positive and negative, and stores the fractional part, together with an exponential part. ( A computer utilizes a finite amount of storage for each number, similar to using a finite number of decimal places. Thus when the computer works a mathematical operation on two numbers, it essentially rounds each number, performs an exact computation on the rounded numbers, and rounds the answer. This is able to lead to round-off error.)\n",
    "\n",
    "## Binary Machine Numbers\n",
    "In 1985, the $\\mathrm{IEEE}$ (Institute for Electrical and Electronic Engineers) published a report call $\\mathit{Binary\\space Floating\\space Point\\space Arithmetic\\space Standard}$ 754-1985. An updated version was published in 2008 as $\\mathit{IEEE\\space 754-2008}$. This provides standards for binary and decimal floating point numbers, formats for data interchange, algorithms for rounding arithmetic operations, and the handling of exceptionis. Formats are specified for single, double, and extended precisions, and these standards are generally followed by all microcomputer manufactureres using floating-point hardware.\n",
    "<br>\n",
    "<br>\n",
    "\n",
    "\n",
    "### Example\n",
    "If Approximate $\\sqrt{7} \\approx 2.6$, then $\\sqrt{7} \\cdot \\sqrt{7} \\approx (2.6) \\cdot (2.6) = 6.76 \\approx 6.7\\ \\leftarrow$ (chopping trunctation) or $\\approx 6.8 \\leftarrow$ (rounding). <br>\n",
    "\n",
    "Although $\\sqrt{7} \\cdot \\sqrt{7}$ should be 7, we will get 6.7 or 6.7 via computing numbers on the computer."
   ]
  },
  {
   "cell_type": "code",
   "execution_count": 1,
   "metadata": {
    "collapsed": true
   },
   "outputs": [],
   "source": [
    "import math\n",
    "\n",
    "def absolute_value(p):\n",
    "        return math.fabs(p)\n",
    "\n",
    "def actual_error(p, a_p):\n",
    "        return p - a_p\n",
    "    \n",
    "def absolute_error(p, a_p):\n",
    "        return math.fabs(p-a_p)\n",
    "\n",
    "def relative_error(p, a_p):\n",
    "    result = 0\n",
    "    if absolute_value(p) != 0:\n",
    "        result = absolute_error(p,a_p)/absolute_value(p)\n",
    "        return result\n",
    "    else:\n",
    "        print('error: absolute_value must not be equal to ',absolute_value(p))  "
   ]
  },
  {
   "cell_type": "code",
   "execution_count": null,
   "metadata": {
    "collapsed": true
   },
   "outputs": [],
   "source": []
  }
 ],
 "metadata": {
  "kernelspec": {
   "display_name": "Python 3",
   "language": "python",
   "name": "python3"
  },
  "language_info": {
   "codemirror_mode": {
    "name": "ipython",
    "version": 3
   },
   "file_extension": ".py",
   "mimetype": "text/x-python",
   "name": "python",
   "nbconvert_exporter": "python",
   "pygments_lexer": "ipython3",
   "version": "3.5.1"
  }
 },
 "nbformat": 4,
 "nbformat_minor": 0
}
