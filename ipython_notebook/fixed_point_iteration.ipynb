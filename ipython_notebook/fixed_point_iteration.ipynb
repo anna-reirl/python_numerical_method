{
 "cells": [
  {
   "cell_type": "markdown",
   "metadata": {},
   "source": [
    "# 03. Root Finding Methods\n",
    "- Title: Methods of Numerical Analysis (Python)\n",
    "- Date: Date: Aug/26/2015, Wednesday - Dec/21/2015, Monday\n",
    "- Author: Minwoo Bae (minubae.nyc@gmail.com)\n",
    "- Reference: Numerical Analysis - 10th Edition by Richard L. Burden, Douglas J. Faires, and Annette M. Burden."
   ]
  },
  {
   "cell_type": "markdown",
   "metadata": {},
   "source": [
    "## 3.2 Fixed-Point Iteration\n",
    "A $\\mathit{fixed point}$ for a function is a number at which the value of the function does not change when the function is applied.\n",
    "### Definition of a Fixed Point\n",
    "The number $p$ is a $\\mathbf{fixed \\space point}$ for a given function $g$ if $g(p)=p$.\n",
    "<br><br>\n",
    "We consider the problem of finding solutions to fixed-point problems and the connection between the fixed-point problems and the root-finding problems we wish to solve. Root-finding problems and fixed-point problems are equivalent classes in the following sense:\n",
    "- Given a root-finding problem $f(p)=0$, we can define function $g$ with a fixed point at p in a number of ways, for example, as $g(x)=x-f(x) \\space\\space or \\space as \\space\\space g(x)=x+3f(x).$\n",
    "- Conversely, if the function $g$ has a fixed point at $p$, then the function defined by $f(x)=x-g(x)$ has a zero at p.\n",
    "\n",
    "### Example 1\n",
    "Determine any fixed points of the function $g(x)=X^{2}-2$.\n",
    "#### Solution\n",
    "A fixed point $p$ for $g$ has the property that \n",
    "<br><br>\n",
    "$$p=g(p)=p^{2}-2, \\space\\space which \\space implies \\space that \\space\\space 0=p^{2}-p-2=(p+1)(p-2).$$\n",
    "<br>\n",
    "A fixed point for $g$ occurs precisely when the graph of $y=g(x)$ intersects the graph of $y=x$, so $g$ has two fixed points, one at $p=-1$ and the other at $p=2.$\n",
    "\n",
    "### Theorem (Fixed-Point Theorem)\n",
    "Let $g \\in C[a,b]$ be such that $g(x)\\in [a,b],$ for all $x$ in $[a,b].$ Suppose, in addition, that $g'$ exists on $(a,b)$ and that a constant $0<k<1$ exists with \n",
    "<br><br>\n",
    "$$\\big|g'(x)\\big| \\leq k, \\space\\space for \\space all \\space x\\in(a,b).$$\n",
    "<br>\n",
    "Then, for any number $p_{0}$ in $[a,b],$ the sequence defined by\n",
    "$$p_{n}=g(p_{n-1}), \\space n \\geq 1,$$\n",
    "<br>\n",
    "converges to the unique fixed point $p$ in $[a,b].$\n",
    "### Corollary\n",
    "If $g$ satisfies the hypotheses of the Theorem, then bounds for the error involved in using $p_{n}$ to approximate $p$ are given by\n",
    "<br><br>\n",
    "$$\\big| p_{n} - p \\big| \\leq k^{n} \\space max\\{p_{0} - a, b - p_{0}\\}$$\n",
    "<br>\n",
    "and\n",
    "<br><br>\n",
    "$$\\big| p_{n} - p \\big| \\leq \\frac{k^{n}}{1-k}\\big| p_{1} - p_{0} \\big|, \\space\\space for \\space all \\space\\space n \\geq 1.$$\n",
    "\n",
    "### Fixed-Point Iteration\n",
    "To approximate the fixed point of a functioni $g$, we choose an initial approximation $p_{0}$ and generate the sequence $\\{p_{n}\\}_{n=0}^\\infty$ by letting $p_{n}=g(p_{n-1})$, for each $n \\geq 1$. If the sequence converges to $p$ and $g$ is continuous, then\n",
    "<br><br>\n",
    "$$p=\\lim_{x \\to \\infty} p_{n} = \\lim_{x \\to \\infty} g(p_{n-1}) = g\\bigg(\\lim_{x \\to \\infty} p_{n-1}\\bigg) = g(p),$$\n",
    "<br>\n",
    "and a solution to $x=g(x)$ is obtained. This technique is called $\\mathbf{fixed-point}$, or $\\mathbf{functional \\space iteration}$. \n",
    "<img src=\"img/fixedpoint.png\" alt=\"Bisection Method\" style=\"width:800px; height:400px;\">"
   ]
  },
  {
   "cell_type": "code",
   "execution_count": 2,
   "metadata": {
    "collapsed": false
   },
   "outputs": [
    {
     "name": "stdout",
     "output_type": "stream",
     "text": [
      "i: 1 p: 1\n",
      "i: 2 p: 2\n",
      "i: 3 p: 1\n",
      "i: 4 p: 2\n",
      "i: 5 p: 1\n",
      "i: 6 p: 2\n",
      "i: 7 p: 1\n",
      "i: 8 p: 2\n",
      "i: 9 p: 1\n",
      "i: 10 p: 2\n",
      "fixed-point:  2\n"
     ]
    }
   ],
   "source": [
    "# Fixed-Point Iteration Theorem\n",
    "# INPUT: Initial approximation p0; tolerance TOL; maximum number of iteration N.\n",
    "# OUTPUT: Approximate solution p or message of failure.   \n",
    "import math\n",
    "g = lambda x: x^3\n",
    "\n",
    "def fixed_point(p0, g, tol, N):\n",
    "    i = 1 \n",
    "    try:\n",
    "        while i <= N:\n",
    "            p = g(p0)\n",
    "\n",
    "            print('i:',i, 'p:',p)\n",
    "\n",
    "            if math.fabs(p-p0) < tol:\n",
    "                return p; break\n",
    "\n",
    "            i += 1\n",
    "            p0 = p\n",
    "            \n",
    "        return p\n",
    "    except:\n",
    "        return 'The procedure was unsuccessful'\n",
    "\n",
    "\n",
    "print('fixed-point: ', fixed_point(2, g, 10^-5, 10))"
   ]
  }
 ],
 "metadata": {
  "kernelspec": {
   "display_name": "Python 3",
   "language": "python",
   "name": "python3"
  },
  "language_info": {
   "codemirror_mode": {
    "name": "ipython",
    "version": 3
   },
   "file_extension": ".py",
   "mimetype": "text/x-python",
   "name": "python",
   "nbconvert_exporter": "python",
   "pygments_lexer": "ipython3",
   "version": "3.5.1"
  }
 },
 "nbformat": 4,
 "nbformat_minor": 0
}
